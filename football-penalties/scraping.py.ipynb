{
 "cells": [
  {
   "cell_type": "code",
   "execution_count": 52,
   "id": "c40aabab",
   "metadata": {},
   "outputs": [],
   "source": [
    "from bs4 import BeautifulSoup\n",
    "\n",
    "import pandas as pd\n",
    "import requests\n",
    "\n",
    "YEARS = list(range(2011, 2022))\n",
    "\n",
    "all_rows = []\n",
    "\n",
    "for year in YEARS:\n",
    "    my_session = requests.session()\n",
    "    for_cookies = my_session.get(\"https://www.footballdb.com\")\n",
    "    headers = {'User-Agent': 'Mozilla/5.0 (Windows NT 6.1; Win64; x64; rv:57.0) Gecko/20100101 Firefox/57.0'}\n",
    "    url = f\"https://www.footballdb.com/stats/penalties.html?yr={year}\"\n",
    "\n",
    "    response = my_session.get(url, headers=headers)\n",
    "    soup = BeautifulSoup(response.content, 'html.parser')\n",
    "\n",
    "    for row in soup.find_all('tr')[2:]:\n",
    "\n",
    "        row = row.find_all('td')\n",
    "        \n",
    "        row_dict = {\n",
    "            'year': year,\n",
    "            'name': row[0].find('span').text.split()[-1],\n",
    "            'num': int(row[1].text),\n",
    "            'yards': int(row[2].text),\n",
    "            'delay_of_game': int(row[3].text),\n",
    "            'false_start': int(row[4].text),\n",
    "            'offensive_holding': int(row[5].text),\n",
    "            'offensive_pass_inteference': int(row[6].text),\n",
    "            'offsides': int(row[7].text),\n",
    "            'defensive_holding': int(row[8].text),\n",
    "            'illegal_contact': int(row[9].text),\n",
    "            'defensive_pass_interference': int(row[10].text),\n",
    "            'roughing_the_passer': int(row[11].text),\n",
    "            'personal_foul': int(row[12].text),\n",
    "            'unnecessary_roughness': int(row[13].text),\n",
    "            'unsportsmanlike_conduct': int(row[14].text),\n",
    "            'other': int(row[15].text)\n",
    "        }\n",
    "\n",
    "        all_rows.append(row_dict)\n",
    "    \n",
    "df = pd.DataFrame(all_rows)\n",
    "\n",
    "df.to_csv('penalties_details.csv', index=False)"
   ]
  },
  {
   "cell_type": "code",
   "execution_count": 121,
   "id": "5765f7c5",
   "metadata": {},
   "outputs": [
    {
     "data": {
      "text/plain": [
       "name\n",
       "Ravens        14.0\n",
       "Rams          12.0\n",
       "Raiders       12.0\n",
       "49ers         11.0\n",
       "Jets          11.0\n",
       "Steelers      11.0\n",
       "Broncos       11.0\n",
       "Seahawks      11.0\n",
       "Buccaneers    11.0\n",
       "Saints        11.0\n",
       "Titans        10.0\n",
       "Redskins      10.0\n",
       "Panthers      10.0\n",
       "Lions         10.0\n",
       "Jaguars       10.0\n",
       "Bills         10.0\n",
       "Falcons       10.0\n",
       "Eagles        10.0\n",
       "Bengals       10.0\n",
       "Dolphins      10.0\n",
       "Cowboys       10.0\n",
       "Chargers      10.0\n",
       "Giants         9.0\n",
       "Texans         9.0\n",
       "Bears          9.0\n",
       "Cardinals      9.0\n",
       "Team           8.0\n",
       "Vikings        8.0\n",
       "Browns         8.0\n",
       "Colts          8.0\n",
       "Packers        8.0\n",
       "Patriots       7.0\n",
       "Chiefs         7.0\n",
       "Name: aggressive_penalties, dtype: float64"
      ]
     },
     "execution_count": 121,
     "metadata": {},
     "output_type": "execute_result"
    }
   ],
   "source": [
    "df = pd.read_csv('penalties_details.csv')\n",
    "pd.set_option('display.max_rows', 500)\n",
    "\n",
    "df['aggressive_penalties'] = df.roughing_the_passer + df.personal_foul + df.unnecessary_roughness + df.unsportsmanlike_conduct\n",
    "\n",
    "df.groupby('name').mean().aggressive_penalties.round().sort_values(ascending=False)"
   ]
  },
  {
   "cell_type": "code",
   "execution_count": 119,
   "id": "54b687dd",
   "metadata": {},
   "outputs": [
    {
     "data": {
      "text/plain": [
       "name\n",
       "Raiders       47.0\n",
       "Chiefs        44.0\n",
       "Saints        43.0\n",
       "Cowboys       42.0\n",
       "Broncos       42.0\n",
       "Bills         41.0\n",
       "Browns        41.0\n",
       "Ravens        40.0\n",
       "Lions         40.0\n",
       "Buccaneers    40.0\n",
       "Patriots      39.0\n",
       "Texans        39.0\n",
       "Seahawks      39.0\n",
       "Steelers      38.0\n",
       "Eagles        38.0\n",
       "Cardinals     38.0\n",
       "Jets          38.0\n",
       "49ers         38.0\n",
       "Titans        37.0\n",
       "Jaguars       37.0\n",
       "Falcons       37.0\n",
       "Dolphins      37.0\n",
       "Chargers      37.0\n",
       "Vikings       37.0\n",
       "Redskins      36.0\n",
       "Colts         36.0\n",
       "Bears         35.0\n",
       "Bengals       35.0\n",
       "Rams          34.0\n",
       "Giants        34.0\n",
       "Packers       33.0\n",
       "Panthers      32.0\n",
       "Team          27.0\n",
       "Name: arbitrary_penalties, dtype: float64"
      ]
     },
     "execution_count": 119,
     "metadata": {},
     "output_type": "execute_result"
    }
   ],
   "source": [
    "df = pd.read_csv('penalties_details.csv')\n",
    "\n",
    "df['arbitrary_penalties'] = df.offensive_holding + df.offensive_pass_inteference + df.defensive_holding + df.illegal_contact + df.defensive_pass_interference\n",
    "\n",
    "\n",
    "df.groupby('name').mean().arbitrary_penalties.round().sort_values(ascending=False)"
   ]
  },
  {
   "cell_type": "code",
   "execution_count": 120,
   "id": "43a1fc85",
   "metadata": {},
   "outputs": [
    {
     "data": {
      "text/plain": [
       "name\n",
       "Seahawks      35.0\n",
       "Rams          32.0\n",
       "Raiders       32.0\n",
       "Cardinals     31.0\n",
       "Bears         30.0\n",
       "49ers         30.0\n",
       "Browns        30.0\n",
       "Chargers      29.0\n",
       "Eagles        29.0\n",
       "Ravens        29.0\n",
       "Buccaneers    28.0\n",
       "Texans        28.0\n",
       "Cowboys       28.0\n",
       "Redskins      28.0\n",
       "Chiefs        27.0\n",
       "Bills         26.0\n",
       "Bengals       26.0\n",
       "Jets          26.0\n",
       "Packers       26.0\n",
       "Team          26.0\n",
       "Steelers      25.0\n",
       "Jaguars       25.0\n",
       "Panthers      25.0\n",
       "Lions         25.0\n",
       "Broncos       25.0\n",
       "Giants        24.0\n",
       "Saints        24.0\n",
       "Colts         24.0\n",
       "Vikings       24.0\n",
       "Falcons       23.0\n",
       "Dolphins      23.0\n",
       "Titans        23.0\n",
       "Patriots      20.0\n",
       "Name: disciplinary_penalties, dtype: float64"
      ]
     },
     "execution_count": 120,
     "metadata": {},
     "output_type": "execute_result"
    }
   ],
   "source": [
    "df = pd.read_csv('penalties_details.csv')\n",
    "\n",
    "df['disciplinary_penalties'] = df.delay_of_game + df.false_start + df.offsides\n",
    "\n",
    "df.groupby('name').mean().disciplinary_penalties.round().sort_values(ascending=False)"
   ]
  },
  {
   "cell_type": "code",
   "execution_count": null,
   "id": "461c16f8",
   "metadata": {},
   "outputs": [],
   "source": []
  }
 ],
 "metadata": {
  "kernelspec": {
   "display_name": "Python 3 (ipykernel)",
   "language": "python",
   "name": "python3"
  },
  "language_info": {
   "codemirror_mode": {
    "name": "ipython",
    "version": 3
   },
   "file_extension": ".py",
   "mimetype": "text/x-python",
   "name": "python",
   "nbconvert_exporter": "python",
   "pygments_lexer": "ipython3",
   "version": "3.9.7"
  }
 },
 "nbformat": 4,
 "nbformat_minor": 5
}
